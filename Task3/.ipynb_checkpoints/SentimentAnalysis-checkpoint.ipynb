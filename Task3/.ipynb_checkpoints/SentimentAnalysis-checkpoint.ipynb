{
 "cells": [
  {
   "cell_type": "code",
   "execution_count": 4,
   "id": "bf264e65-70ca-433f-a4c9-0920507219fb",
   "metadata": {},
   "outputs": [],
   "source": [
    "!conda install -c conda-forge requests"
   ]
  },
  {
   "cell_type": "code",
   "execution_count": 5,
   "id": "59dc1a1f-dbaf-47ac-b730-cee60a83b3e7",
   "metadata": {},
   "outputs": [],
   "source": [
    "!pip install vaderSentiment"
   ]
  },
  {
   "cell_type": "code",
   "execution_count": 10,
   "id": "981fbe24-db1a-4023-b575-2ea9f45cfc6b",
   "metadata": {},
   "outputs": [
    {
     "ename": "KeyError",
     "evalue": "'data'",
     "output_type": "error",
     "traceback": [
      "\u001b[1;31m---------------------------------------------------------------------------\u001b[0m",
      "\u001b[1;31mKeyError\u001b[0m                                  Traceback (most recent call last)",
      "Cell \u001b[1;32mIn[10], line 23\u001b[0m\n\u001b[0;32m     21\u001b[0m \u001b[38;5;66;03m# Example: Get 100 posts about \"YourBrand\" from a specific Facebook page\u001b[39;00m\n\u001b[0;32m     22\u001b[0m page_id \u001b[38;5;241m=\u001b[39m \u001b[38;5;124m'\u001b[39m\u001b[38;5;124mYOUR_PAGE_ID\u001b[39m\u001b[38;5;124m'\u001b[39m\n\u001b[1;32m---> 23\u001b[0m posts_df \u001b[38;5;241m=\u001b[39m \u001b[43mget_facebook_posts\u001b[49m\u001b[43m(\u001b[49m\u001b[43mpage_id\u001b[49m\u001b[43m,\u001b[49m\u001b[43m \u001b[49m\u001b[38;5;124;43m'\u001b[39;49m\u001b[38;5;124;43mYourBrand\u001b[39;49m\u001b[38;5;124;43m'\u001b[39;49m\u001b[43m,\u001b[49m\u001b[43m \u001b[49m\u001b[43mcount\u001b[49m\u001b[38;5;241;43m=\u001b[39;49m\u001b[38;5;241;43m100\u001b[39;49m\u001b[43m)\u001b[49m\n\u001b[0;32m     25\u001b[0m \u001b[38;5;66;03m# Display the collected posts\u001b[39;00m\n\u001b[0;32m     26\u001b[0m \u001b[38;5;28mprint\u001b[39m(posts_df\u001b[38;5;241m.\u001b[39mhead())\n",
      "Cell \u001b[1;32mIn[10], line 14\u001b[0m, in \u001b[0;36mget_facebook_posts\u001b[1;34m(page_id, keyword, count)\u001b[0m\n\u001b[0;32m     12\u001b[0m url \u001b[38;5;241m=\u001b[39m \u001b[38;5;124mf\u001b[39m\u001b[38;5;124m'\u001b[39m\u001b[38;5;124mhttps://graph.facebook.com/v12.0/\u001b[39m\u001b[38;5;132;01m{\u001b[39;00mpage_id\u001b[38;5;132;01m}\u001b[39;00m\u001b[38;5;124m/posts?access_token=\u001b[39m\u001b[38;5;132;01m{\u001b[39;00maccess_token\u001b[38;5;132;01m}\u001b[39;00m\u001b[38;5;124m&limit=\u001b[39m\u001b[38;5;132;01m{\u001b[39;00mcount\u001b[38;5;132;01m}\u001b[39;00m\u001b[38;5;124m'\u001b[39m\n\u001b[0;32m     13\u001b[0m response \u001b[38;5;241m=\u001b[39m requests\u001b[38;5;241m.\u001b[39mget(url)\n\u001b[1;32m---> 14\u001b[0m posts \u001b[38;5;241m=\u001b[39m \u001b[43mresponse\u001b[49m\u001b[38;5;241;43m.\u001b[39;49m\u001b[43mjson\u001b[49m\u001b[43m(\u001b[49m\u001b[43m)\u001b[49m\u001b[43m[\u001b[49m\u001b[38;5;124;43m'\u001b[39;49m\u001b[38;5;124;43mdata\u001b[39;49m\u001b[38;5;124;43m'\u001b[39;49m\u001b[43m]\u001b[49m\n\u001b[0;32m     15\u001b[0m posts_data \u001b[38;5;241m=\u001b[39m []\n\u001b[0;32m     16\u001b[0m \u001b[38;5;28;01mfor\u001b[39;00m post \u001b[38;5;129;01min\u001b[39;00m posts:\n",
      "\u001b[1;31mKeyError\u001b[0m: 'data'"
     ]
    }
   ],
   "source": [
    "import tweepy\n",
    "import pandas as pd\n",
    "from vaderSentiment.vaderSentiment import SentimentIntensityAnalyzer\n",
    "import re\n",
    "import matplotlib.pyplot as plt\n",
    "\n",
    "# Twitter API credentials\n",
    "api_key = 'XKltJTbHjXUzEcOoYxImRvJLD'\n",
    "api_secret_key = '70hhhVM5e1vNvwQHAGQ4YZWNR3u8gk8Jf51Coqs2EM7nnbFRey'\n",
    "access_token = '1694783464808349696-8LOx2oQva1QcKClF95aNGszTwggJCh'\n",
    "access_token_secret = 'P7540LgqGfddTmPQoKumMDVDMnDtEekvWyxSXmhQeMMak'\n",
    "\n",
    "# Authenticate with the Twitter API\n",
    "auth = tweepy.OAuthHandler(api_key, api_secret_key)\n",
    "auth.set_access_token(access_token, access_token_secret)\n",
    "api = tweepy.API(auth, wait_on_rate_limit=True)\n",
    "\n",
    "# Function to clean tweet text\n",
    "def clean_tweet(tweet):\n",
    "    tweet = re.sub(r'http\\S+', '', tweet)  # Remove URLs\n",
    "    tweet = re.sub(r'@\\S+', '', tweet)     # Remove mentions\n",
    "    tweet = re.sub(r'#\\S+', '', tweet)     # Remove hashtags\n",
    "    tweet = re.sub(r'[^A-Za-z0-9\\s]', '', tweet)  # Remove special characters\n",
    "    return tweet\n",
    "\n",
    "# Function to get tweets\n",
    "def get_tweets(keyword, count=100):\n",
    "    tweets = tweepy.Cursor(api.search_tweets, q=keyword, lang='en', tweet_mode='extended').items(count)\n",
    "    tweets_data = [[tweet.full_text, tweet.created_at, tweet.user.screen_name] for tweet in tweets]\n",
    "    return pd.DataFrame(tweets_data, columns=['Tweet', 'Timestamp', 'User'])\n",
    "\n",
    "# Example: Get 100 tweets about \"YourBrand\"\n",
    "tweets_df = get_tweets('YourBrand', count=100)\n",
    "\n",
    "# Clean the tweets\n",
    "tweets_df['Cleaned_Tweet'] = tweets_df['Tweet'].apply(clean_tweet)\n",
    "\n",
    "# Display the collected tweets\n",
    "print(tweets_df.head())\n"
   ]
  },
  {
   "cell_type": "code",
   "execution_count": null,
   "id": "14721695-d7db-415b-8a5a-3724d48ad147",
   "metadata": {},
   "outputs": [],
   "source": []
  }
 ],
 "metadata": {
  "kernelspec": {
   "display_name": "Python 3 (ipykernel)",
   "language": "python",
   "name": "python3"
  },
  "language_info": {
   "codemirror_mode": {
    "name": "ipython",
    "version": 3
   },
   "file_extension": ".py",
   "mimetype": "text/x-python",
   "name": "python",
   "nbconvert_exporter": "python",
   "pygments_lexer": "ipython3",
   "version": "3.10.13"
  }
 },
 "nbformat": 4,
 "nbformat_minor": 5
}
